{
 "cells": [
  {
   "cell_type": "code",
   "execution_count": 1,
   "metadata": {},
   "outputs": [],
   "source": [
    "import os\n",
    "from glob import glob\n",
    "\n",
    "import dask\n",
    "import dask.bag as db\n",
    "import dask.dataframe as dd\n",
    "import dask.array as da\n",
    "from distributed import Client\n",
    "from dask_jobqueue import SLURMCluster\n",
    "\n",
    "import numpy as np\n",
    "\n",
    "from sklearn.multioutput import MultiOutputRegressor\n",
    "from sklearn.linear_model import Ridge\n",
    "from sklearn.metrics import mean_squared_error\n",
    "from sklearn.metrics import r2_score\n",
    "from sklearn.neighbors import NearestNeighbors\n",
    "\n",
    "import pandas as pd\n",
    "\n",
    "import time\n",
    "\n",
    "from IPython.display import display\n",
    "import matplotlib.pyplot as plt"
   ]
  },
  {
   "cell_type": "code",
   "execution_count": 2,
   "metadata": {},
   "outputs": [
    {
     "data": {
      "application/vnd.jupyter.widget-view+json": {
       "model_id": "183b0f9778ed4123b15eac8cd8672465",
       "version_major": 2,
       "version_minor": 0
      },
      "text/plain": [
       "VBox(children=(HTML(value='<h2>SLURMCluster</h2>'), HBox(children=(HTML(value='\\n<div>\\n  <style scoped>\\n    …"
      ]
     },
     "metadata": {},
     "output_type": "display_data"
    },
    {
     "data": {
      "text/html": [
       "<table style=\"border: 2px solid white;\">\n",
       "<tr>\n",
       "<td style=\"vertical-align: top; border: 0px solid white\">\n",
       "<h3 style=\"text-align: left;\">Client</h3>\n",
       "<ul style=\"text-align: left; list-style: none; margin: 0; padding: 0;\">\n",
       "  <li><b>Scheduler: </b>tcp://10.32.33.13:40137</li>\n",
       "  <li><b>Dashboard: </b><a href='http://10.32.33.13:8787/status' target='_blank'>http://10.32.33.13:8787/status</a></li>\n",
       "</ul>\n",
       "</td>\n",
       "<td style=\"vertical-align: top; border: 0px solid white\">\n",
       "<h3 style=\"text-align: left;\">Cluster</h3>\n",
       "<ul style=\"text-align: left; list-style:none; margin: 0; padding: 0;\">\n",
       "  <li><b>Workers: </b>0</li>\n",
       "  <li><b>Cores: </b>0</li>\n",
       "  <li><b>Memory: </b>0 B</li>\n",
       "</ul>\n",
       "</td>\n",
       "</tr>\n",
       "</table>"
      ],
      "text/plain": [
       "<Client: 'tcp://10.32.33.13:40137' processes=0 threads=0, memory=0 B>"
      ]
     },
     "metadata": {},
     "output_type": "display_data"
    }
   ],
   "source": [
    "# Set LOCAL to True for single-machine execution while developing\n",
    "# Set LOCAL to False for cluster execution\n",
    "LOCAL = False\n",
    "\n",
    "if LOCAL:\n",
    "    # This line creates a single-machine dask client\n",
    "    client = Client()\n",
    "else:    \n",
    "    # This line creates a SLURM cluster dask and dask client\n",
    "    # Logging outputs will be stored in /scratch/{your-netid}\n",
    "    \n",
    "    cluster = SLURMCluster(memory='4GB', cores=8, python='/scratch/work/public/dask/bin/python', \n",
    "                               local_directory='/tmp/{}/'.format(os.environ['SLURM_JOB_USER']),\n",
    "                               job_extra=['--output=/scratch/{}/slurm-%j.out'.format(os.environ['SLURM_JOB_USER'])])\n",
    "\n",
    "    cluster.submit_command = 'slurm'\n",
    "    cluster.scale(100)\n",
    "\n",
    "    display(cluster)\n",
    "    client = Client(cluster)\n",
    "\n",
    "display(client)"
   ]
  },
  {
   "cell_type": "code",
   "execution_count": 3,
   "metadata": {},
   "outputs": [
    {
     "name": "stdout",
     "output_type": "stream",
     "text": [
      "Number of users: 282496\n"
     ]
    }
   ],
   "source": [
    "genome_cols = [str(i) for i in range(1,1129)]\n",
    "user_factors_cold = dd.read_parquet('user_factors_cold.parquet', columns=['id', 'features'])\n",
    "item_factors_train_genome = dd.read_parquet('item_factors_train_genome.parquet', columns=['movieId', 'target'] + genome_cols)\n",
    "item_factors_test_genome = dd.read_parquet('item_factors_test_genome.parquet', columns=['movieId'] + genome_cols)\n",
    "\n",
    "movieIds_train = item_factors_train_genome['movieId'].unique().to_dask_array().compute()\n",
    "movieIds_test = item_factors_test_genome['movieId'].unique().to_dask_array().compute()\n",
    "\n",
    "print('Number of users:', len(user_factors_cold))"
   ]
  },
  {
   "cell_type": "code",
   "execution_count": 4,
   "metadata": {},
   "outputs": [
    {
     "name": "stdout",
     "output_type": "stream",
     "text": [
      "User factors shape: (282496, 150)\n",
      "Item factors shape: (11793, 150)\n"
     ]
    }
   ],
   "source": [
    "user_factors_cold_matrix = user_factors_cold.features\\\n",
    "                                                .to_dask_array()\\\n",
    "                                                .map_blocks(lambda x: da.array(list(x)))\\\n",
    "                                                .compute()\n",
    "item_factors_cold_matrix = item_factors_train_genome.target\\\n",
    "                                                    .to_dask_array()\\\n",
    "                                                    .map_blocks(lambda x: da.array(list(x)))\\\n",
    "                                                    .compute()\n",
    "\n",
    "print('User factors shape:', user_factors_cold_matrix.shape)\n",
    "print('Item factors shape:', item_factors_cold_matrix.shape)\n"
   ]
  },
  {
   "cell_type": "code",
   "execution_count": 5,
   "metadata": {},
   "outputs": [],
   "source": [
    "alphas = np.array([0.1, 1, 10, 25, 50, 75, 100])\n",
    "\n",
    "train_features_data, val_features_data = item_factors_train_genome.random_split([0.7, 0.3])\n",
    "\n",
    "y_train = train_features_data.target\\\n",
    "                             .to_dask_array()\\\n",
    "                             .map_blocks(lambda x: da.array(list(x)))\\\n",
    "                             .compute()\\\n",
    "                             .compute()\n",
    "\n",
    "X_train = train_features_data[genome_cols].to_dask_array().compute()\n",
    "\n",
    "y_val = val_features_data.target\\\n",
    "                         .to_dask_array()\\\n",
    "                         .map_blocks(lambda x: da.array(list(x)))\\\n",
    "                         .compute()\\\n",
    "                         .compute()\n",
    "\n",
    "X_val = val_features_data[genome_cols].to_dask_array().compute()"
   ]
  },
  {
   "cell_type": "code",
   "execution_count": 6,
   "metadata": {},
   "outputs": [
    {
     "name": "stdout",
     "output_type": "stream",
     "text": [
      "Tuning regressor...\n",
      "Tuning done\n",
      "\n",
      "\n",
      "Average training time: 39.54452092306955 seconds\n"
     ]
    }
   ],
   "source": [
    "val_rmses = np.empty(len(alphas))\n",
    "train_rmses = np.empty(len(alphas))\n",
    "\n",
    "val_r2 = np.empty(len(alphas))\n",
    "train_r2 = np.empty(len(alphas))\n",
    "\n",
    "regressors = []\n",
    "train_times = np.empty(len(alphas))\n",
    "print('Tuning regressor...')\n",
    "for i in range(len(alphas)):\n",
    "    multi_regressor = MultiOutputRegressor(Ridge(alpha=alphas[i]))\n",
    "    t0 = time.time()\n",
    "    multi_regressor.fit(X_train, y_train)\n",
    "    train_times[i] = time.time()-t0\n",
    "    val_rmses[i] = mean_squared_error(y_val, multi_regressor.predict(X_val))\n",
    "    train_rmses[i] = mean_squared_error(y_train, multi_regressor.predict(X_train))\n",
    "\n",
    "    val_r2[i] = r2_score(y_val, multi_regressor.predict(X_val))\n",
    "    train_r2[i] = r2_score(y_train, multi_regressor.predict(X_train))\n",
    "\n",
    "    regressors.append(multi_regressor)\n",
    "print('Tuning done\\n\\n')\n",
    "print('Average training time: {} seconds'.format(np.mean(train_times)))"
   ]
  },
  {
   "cell_type": "code",
   "execution_count": 7,
   "metadata": {},
   "outputs": [
    {
     "name": "stdout",
     "output_type": "stream",
     "text": [
      "Best alpha:  100.0\n",
      "Training RMSE:  0.04740537801144518\n",
      "Training R2:  0.17105861777448228\n",
      "\n",
      "\n",
      "Validation RMSE:  0.05101992405380106\n",
      "Validation R2:  0.11266309520380607\n"
     ]
    },
    {
     "data": {
      "image/png": "[encoded data removed]",
      "text/plain": [
       "<Figure size 1440x720 with 2 Axes>"
      ]
     },
     "metadata": {
      "needs_background": "light"
     },
     "output_type": "display_data"
    }
   ],
   "source": [
    "best_rmse = np.min(val_rmses)\n",
    "best_alpha = alphas[np.argmin(val_rmses)]\n",
    "best_regressor = regressors[np.argmin(val_rmses)]\n",
    "\n",
    "print('Best alpha: ', best_alpha)\n",
    "print('Training RMSE: ', mean_squared_error(y_train, best_regressor.predict(X_train)))\n",
    "print('Training R2: ', r2_score(y_train, best_regressor.predict(X_train)))\n",
    "print('\\n')\n",
    "print('Validation RMSE: ', best_rmse)\n",
    "print('Validation R2: ', r2_score(y_val, best_regressor.predict(X_val)))\n",
    "\n",
    "fig, axs = plt.subplots(1, 2, figsize=(20, 10))\n",
    "\n",
    "\n",
    "axs[0].plot(alphas, val_rmses, label='rmse')\n",
    "axs[0].plot(alphas, val_r2, label='r2')\n",
    "axs[0].set_xlabel('regularization constant')\n",
    "axs[0].set_title('Validation Metrics')\n",
    "axs[0].legend()\n",
    "\n",
    "axs[1].plot(alphas, train_rmses, label='rmse')\n",
    "axs[1].plot(alphas, train_r2, label='r2')\n",
    "axs[1].set_xlabel('regularization constant')\n",
    "axs[1].set_title('Training Metrics')\n",
    "axs[1].legend()\n",
    "\n",
    "plt.savefig('content_model_metrics.png')"
   ]
  },
  {
   "cell_type": "code",
   "execution_count": 8,
   "metadata": {},
   "outputs": [
    {
     "name": "stdout",
     "output_type": "stream",
     "text": [
      "[ 148  463  471 ...  269 1750 1947]\n"
     ]
    }
   ],
   "source": [
    "X_test = item_factors_test_genome[genome_cols].to_dask_array().compute()\n",
    "held_out_factors_pred = da.array(best_regressor.predict(X_test))\n",
    "item_factors_matrix_combined = da.vstack((item_factors_cold_matrix, held_out_factors_pred))\n",
    "movieIds = da.concatenate((movieIds_train, movieIds_test)).compute()\n",
    "print(movieIds)"
   ]
  },
  {
   "cell_type": "code",
   "execution_count": 9,
   "metadata": {},
   "outputs": [
    {
     "name": "stdout",
     "output_type": "stream",
     "text": [
      "Recommendations generated in 82.47183036804199 seconds\n"
     ]
    }
   ],
   "source": [
    "t0 = time.time()\n",
    "neigh = NearestNeighbors(n_neighbors=100, radius=1000, metric='cosine')\n",
    "neigh.fit(item_factors_matrix_combined)\n",
    "recs_indices = da.array(neigh.kneighbors(user_factors_cold_matrix, 100, return_distance=False))\n",
    "recs = recs_indices.map_blocks(lambda x: movieIds[x]).compute().tolist()\n",
    "print('Recommendations generated in {} seconds'.format(time.time()-t0))"
   ]
  },
  {
   "cell_type": "code",
   "execution_count": 10,
   "metadata": {},
   "outputs": [
    {
     "data": {
      "text/html": [
       "<div>\n",
       "<style scoped>\n",
       "    .dataframe tbody tr th:only-of-type {\n",
       "        vertical-align: middle;\n",
       "    }\n",
       "\n",
       "    .dataframe tbody tr th {\n",
       "        vertical-align: top;\n",
       "    }\n",
       "\n",
       "    .dataframe thead th {\n",
       "        text-align: right;\n",
       "    }\n",
       "</style>\n",
       "<table border=\"1\" class=\"dataframe\">\n",
       "  <thead>\n",
       "    <tr style=\"text-align: right;\">\n",
       "      <th></th>\n",
       "      <th>userId</th>\n",
       "      <th>recs</th>\n",
       "    </tr>\n",
       "  </thead>\n",
       "  <tbody>\n",
       "    <tr>\n",
       "      <th>0</th>\n",
       "      <td>10</td>\n",
       "      <td>[1148, 1197, 166024, 83803, 3417, 147300, 1875...</td>\n",
       "    </tr>\n",
       "    <tr>\n",
       "      <th>1</th>\n",
       "      <td>20</td>\n",
       "      <td>[1088, 2641, 3600, 7420, 26394, 7614, 6349, 22...</td>\n",
       "    </tr>\n",
       "    <tr>\n",
       "      <th>2</th>\n",
       "      <td>30</td>\n",
       "      <td>[45891, 60103, 164, 3435, 903, 8482, 7208, 852...</td>\n",
       "    </tr>\n",
       "    <tr>\n",
       "      <th>3</th>\n",
       "      <td>40</td>\n",
       "      <td>[356, 8905, 81403, 5873, 292, 3523, 7809, 1442...</td>\n",
       "    </tr>\n",
       "    <tr>\n",
       "      <th>4</th>\n",
       "      <td>50</td>\n",
       "      <td>[187595, 1610, 2237, 32203, 260, 161, 70497, 8...</td>\n",
       "    </tr>\n",
       "  </tbody>\n",
       "</table>\n",
       "</div>"
      ],
      "text/plain": [
       "   userId                                               recs\n",
       "0      10  [1148, 1197, 166024, 83803, 3417, 147300, 1875...\n",
       "1      20  [1088, 2641, 3600, 7420, 26394, 7614, 6349, 22...\n",
       "2      30  [45891, 60103, 164, 3435, 903, 8482, 7208, 852...\n",
       "3      40  [356, 8905, 81403, 5873, 292, 3523, 7809, 1442...\n",
       "4      50  [187595, 1610, 2237, 32203, 260, 161, 70497, 8..."
      ]
     },
     "execution_count": 10,
     "metadata": {},
     "output_type": "execute_result"
    }
   ],
   "source": [
    "userIds = user_factors_cold['id'].unique().to_dask_array().compute()\n",
    "\n",
    "user_recs = pd.DataFrame({'userId': userIds, 'recs': recs})\n",
    "user_recs.head()"
   ]
  },
  {
   "cell_type": "code",
   "execution_count": 11,
   "metadata": {},
   "outputs": [],
   "source": [
    "user_recs.to_parquet('ALS_coldStart_user_recs.parquet', index=False)"
   ]
  }
 ],
 "metadata": {
  "kernelspec": {
   "display_name": "Python 3",
   "language": "python",
   "name": "python3"
  },
  "language_info": {
   "codemirror_mode": {
    "name": "ipython",
    "version": 3
   },
   "file_extension": ".py",
   "mimetype": "text/x-python",
   "name": "python",
   "nbconvert_exporter": "python",
   "pygments_lexer": "ipython3",
   "version": "3.8.5"
  }
 },
 "nbformat": 4,
 "nbformat_minor": 4
}
